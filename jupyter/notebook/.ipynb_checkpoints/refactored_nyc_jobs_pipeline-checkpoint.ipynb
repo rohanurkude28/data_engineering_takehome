{
 "cells": [
  {
   "cell_type": "markdown",
   "metadata": {},
   "source": [
    "# NYC Jobs Data Pipeline\n",
    "Structured using SOLID, KISS principles."
   ]
  },
  {
   "cell_type": "markdown",
   "metadata": {},
   "source": [
    "## 1. Setup"
   ]
  },
  {
   "cell_type": "code",
   "execution_count": null,
   "metadata": {},
   "outputs": [],
   "source": [
    "import findspark\n",
    "findspark.init()\n",
    "\n",
    "import logging\n",
    "import os\n",
    "import re\n",
    "import matplotlib.pyplot as plt\n",
    "import pandas as pd\n",
    "from pyspark.sql import SparkSession\n",
    "from pyspark.sql.functions import col, udf, year\n",
    "from pyspark.sql.types import StringType\n",
    "\n",
    "logging.basicConfig(level=logging.INFO)\n",
    "logger = logging.getLogger(__name__)\n"
   ]
  },
  {
   "cell_type": "markdown",
   "metadata": {},
   "source": [
    "## 2. Extraction"
   ]
  },
  {
   "cell_type": "code",
   "execution_count": null,
   "metadata": {},
   "outputs": [],
   "source": [
    "class SparkFactory:\n",
    "    @staticmethod\n",
    "    def create(app_name=\"NYC Jobs Analysis\"):\n",
    "        return (\n",
    "            SparkSession.builder\n",
    "            .appName(app_name)\n",
    "            .config(\"spark.sql.adaptive.enabled\", \"true\")\n",
    "            .config(\"spark.serializer\", \"org.apache.spark.serializer.KryoSerializer\")\n",
    "            .getOrCreate()\n",
    "        )\n",
    "\n",
    "class JobDataExtractor:\n",
    "    def __init__(self, spark, input_path):\n",
    "        self.spark = spark\n",
    "        self.input_path = input_path\n",
    "\n",
    "    def read(self):\n",
    "        if os.stat(self.input_path).st_size == 0:\n",
    "            logger.warning(\"Input file is empty.\")\n",
    "            return None\n",
    "        df = self.spark.read.option(\"header\", \"true\").option(\"inferSchema\", \"true\").option(\"multiLine\", \"true\") \\\n",
    "            .option(\"quote\", \"\\\"\").option(\"escape\", \"\\\"\").option(\"mode\", \"PERMISSIVE\") \\\n",
    "            .option(\"encoding\", \"ISO-8859-1\").csv(self.input_path)\n",
    "        logger.info(\"Raw data loaded successfully.\")\n",
    "        return df\n"
   ]
  },
  {
   "cell_type": "markdown",
   "metadata": {},
   "source": [
    "## 3. Wrangling"
   ]
  },
  {
   "cell_type": "code",
   "execution_count": null,
   "metadata": {},
   "outputs": [],
   "source": [
    "class JobDataWrangler:\n",
    "    def __init__(self, df):\n",
    "        self.df = df\n",
    "\n",
    "    def sanitize_column_names(self):\n",
    "        def sanitize(name):\n",
    "            name = re.sub(r'[^\\w]', ' ', name)\n",
    "            parts = name.strip().split()\n",
    "            return ''.join([parts[0].lower()] + [p.capitalize() for p in parts[1:]]) if parts else name\n",
    "        for old_name in self.df.columns:\n",
    "            self.df = self.df.withColumnRenamed(old_name, sanitize(old_name))\n",
    "        return self.df\n"
   ]
  },
  {
   "cell_type": "markdown",
   "metadata": {},
   "source": [
    "## 4. Profiling"
   ]
  },
  {
   "cell_type": "code",
   "execution_count": null,
   "metadata": {},
   "outputs": [],
   "source": [
    "def profile_data(df):\n",
    "    print(\"Schema:\")\n",
    "    df.printSchema()\n",
    "    print(\"Sample rows:\")\n",
    "    df.show(5)\n",
    "    print(\"Column Summary:\")\n",
    "    df.describe().show()\n"
   ]
  },
  {
   "cell_type": "markdown",
   "metadata": {},
   "source": [
    "## 5. Transforming"
   ]
  },
  {
   "cell_type": "code",
   "execution_count": null,
   "metadata": {},
   "outputs": [],
   "source": [
    "def classify_degree(text):\n",
    "    if not text:\n",
    "        return \"Other\"\n",
    "    text_lower = text.lower()\n",
    "    degree_patterns = [\n",
    "        (r\"(ph\\.?d|doctorate|doctoral)\", \"PhD\"),\n",
    "        (r\"(master'?s|m\\.?a\\.?|m\\.?s\\.?|mba)\", \"Masters\"),\n",
    "        (r\"(bachelor'?s|b\\.?a\\.?|b\\.?s\\.?|baccalaureate)\", \"Bachelors\"),\n",
    "        (r\"(associate'?s|a\\.?a\\.?|a\\.?s\\.?)\", \"Associate\"),\n",
    "        (r\"(high school|h\\.?s\\.?|diploma|ged)\", \"High School\"),\n",
    "    ]\n",
    "    for pattern, label in degree_patterns:\n",
    "        if re.search(pattern, text_lower):\n",
    "            return label\n",
    "    return \"Other\"\n",
    "\n",
    "degree_udf = udf(classify_degree, StringType())\n",
    "\n",
    "def transform_data(df):\n",
    "    df = df.withColumn(\"avgSalary\", (col(\"salaryRangeFrom\") + col(\"salaryRangeTo\")) / 2)\n",
    "    df = df.withColumn(\"postingYear\", year(col(\"postingDate\")))\n",
    "    df = df.withColumn(\"degreeLevel\", degree_udf(col(\"minimumQualRequirements\")))\n",
    "    return df\n"
   ]
  },
  {
   "cell_type": "markdown",
   "metadata": {},
   "source": [
    "## 6. Validation"
   ]
  },
  {
   "cell_type": "code",
   "execution_count": null,
   "metadata": {},
   "outputs": [],
   "source": [
    "def validate_data(df):\n",
    "    assert df.filter(col(\"avgSalary\").isNull()).count() == 0, \"Missing avgSalary\"\n",
    "    assert \"degreeLevel\" in df.columns, \"degreeLevel not created\"\n",
    "    logger.info(\"Data validation passed.\")\n"
   ]
  },
  {
   "cell_type": "markdown",
   "metadata": {},
   "source": [
    "## 7. Loading"
   ]
  },
  {
   "cell_type": "code",
   "execution_count": null,
   "metadata": {},
   "outputs": [],
   "source": [
    "def save_data(df, path=\"output/jobs_cleaned.parquet\"):\n",
    "    df.write.mode(\"overwrite\").parquet(path)\n",
    "    logger.info(f\"Data saved to {path}\")\n"
   ]
  },
  {
   "cell_type": "markdown",
   "metadata": {},
   "source": [
    "## 8. Visualising"
   ]
  },
  {
   "cell_type": "code",
   "execution_count": null,
   "metadata": {},
   "outputs": [],
   "source": [
    "def visualize_data(df):\n",
    "    pd_df = df.select(\"postingYear\", \"avgSalary\").toPandas()\n",
    "    pd_df.groupby(\"postingYear\").mean().plot(kind=\"bar\", figsize=(8,5), legend=False)\n",
    "    plt.title(\"Average Salary by Posting Year\")\n",
    "    plt.ylabel(\"Avg Salary\")\n",
    "    plt.xlabel(\"Year\")\n",
    "    plt.grid(True)\n",
    "    plt.tight_layout()\n",
    "    plt.show()\n"
   ]
  },
  {
   "cell_type": "markdown",
   "metadata": {},
   "source": [
    "## 9. Unit Tests"
   ]
  },
  {
   "cell_type": "code",
   "execution_count": null,
   "metadata": {},
   "outputs": [],
   "source": [
    "import unittest\n",
    "\n",
    "class TestDegreeClassifier(unittest.TestCase):\n",
    "    def test_classify_degree(self):\n",
    "        self.assertEqual(classify_degree(\"PhD in Computer Science\"), \"PhD\")\n",
    "        self.assertEqual(classify_degree(\"Master's in Business\"), \"Masters\")\n",
    "        self.assertEqual(classify_degree(\"Bachelor of Arts\"), \"Bachelors\")\n",
    "        self.assertEqual(classify_degree(\"High School Diploma\"), \"High School\")\n",
    "        self.assertEqual(classify_degree(None), \"Other\")\n",
    "        self.assertEqual(classify_degree(\"some random text\"), \"Other\")\n",
    "\n",
    "if __name__ == \"__main__\":\n",
    "    unittest.main(argv=[''], verbosity=2, exit=False)\n"
   ]
  }
 ],
 "metadata": {
  "kernelspec": {
   "display_name": "Python 3",
   "language": "python",
   "name": "python3"
  },
  "language_info": {
   "codemirror_mode": {
    "name": "ipython",
    "version": 3
   },
   "file_extension": ".py",
   "mimetype": "text/x-python",
   "name": "python",
   "nbconvert_exporter": "python",
   "pygments_lexer": "ipython3",
   "version": "3.7.3"
  }
 },
 "nbformat": 4,
 "nbformat_minor": 5
}
